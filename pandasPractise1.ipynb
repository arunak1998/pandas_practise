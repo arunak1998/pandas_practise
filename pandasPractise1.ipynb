{
 "cells": [
  {
   "cell_type": "code",
   "execution_count": 3,
   "id": "65123290-d895-4d6d-a54a-aa75769d2ca2",
   "metadata": {},
   "outputs": [],
   "source": [
    "import pandas as pd"
   ]
  },
  {
   "cell_type": "code",
   "execution_count": 4,
   "id": "b38480df-8deb-4700-823c-deddccc2833f",
   "metadata": {},
   "outputs": [],
   "source": [
    "df=pd.read_csv('Retail_Dataset.csv')"
   ]
  },
  {
   "cell_type": "code",
   "execution_count": 5,
   "id": "43945790-c284-404a-b769-6c899d96391f",
   "metadata": {},
   "outputs": [
    {
     "data": {
      "text/plain": [
       "(100000, 10)"
      ]
     },
     "execution_count": 5,
     "metadata": {},
     "output_type": "execute_result"
    }
   ],
   "source": [
    "df.shape"
   ]
  },
  {
   "cell_type": "code",
   "execution_count": 6,
   "id": "467764d6-9f75-4317-93d1-d8e15dd19661",
   "metadata": {},
   "outputs": [
    {
     "data": {
      "text/html": [
       "<div>\n",
       "<style scoped>\n",
       "    .dataframe tbody tr th:only-of-type {\n",
       "        vertical-align: middle;\n",
       "    }\n",
       "\n",
       "    .dataframe tbody tr th {\n",
       "        vertical-align: top;\n",
       "    }\n",
       "\n",
       "    .dataframe thead th {\n",
       "        text-align: right;\n",
       "    }\n",
       "</style>\n",
       "<table border=\"1\" class=\"dataframe\">\n",
       "  <thead>\n",
       "    <tr style=\"text-align: right;\">\n",
       "      <th></th>\n",
       "      <th>CustomerID</th>\n",
       "      <th>ProductID</th>\n",
       "      <th>Quantity</th>\n",
       "      <th>Price</th>\n",
       "      <th>TransactionDate</th>\n",
       "      <th>PaymentMethod</th>\n",
       "      <th>StoreLocation</th>\n",
       "      <th>ProductCategory</th>\n",
       "      <th>DiscountApplied(%)</th>\n",
       "      <th>TotalAmount</th>\n",
       "    </tr>\n",
       "  </thead>\n",
       "  <tbody>\n",
       "    <tr>\n",
       "      <th>0</th>\n",
       "      <td>109318</td>\n",
       "      <td>C</td>\n",
       "      <td>7</td>\n",
       "      <td>80.079844</td>\n",
       "      <td>12/26/2023 12:32</td>\n",
       "      <td>Cash</td>\n",
       "      <td>176 Andrew Cliffs\\nBaileyfort, HI 93354</td>\n",
       "      <td>Books</td>\n",
       "      <td>18.677100</td>\n",
       "      <td>455.862764</td>\n",
       "    </tr>\n",
       "    <tr>\n",
       "      <th>1</th>\n",
       "      <td>993229</td>\n",
       "      <td>C</td>\n",
       "      <td>4</td>\n",
       "      <td>75.195229</td>\n",
       "      <td>8/5/2023 0:00</td>\n",
       "      <td>Cash</td>\n",
       "      <td>11635 William Well Suite 809\\nEast Kara, MT 19483</td>\n",
       "      <td>Home Decor</td>\n",
       "      <td>14.121365</td>\n",
       "      <td>258.306546</td>\n",
       "    </tr>\n",
       "    <tr>\n",
       "      <th>2</th>\n",
       "      <td>579675</td>\n",
       "      <td>A</td>\n",
       "      <td>8</td>\n",
       "      <td>31.528816</td>\n",
       "      <td>3/11/2024 18:51</td>\n",
       "      <td>Cash</td>\n",
       "      <td>910 Mendez Ville Suite 909\\nPort Lauraland, MO...</td>\n",
       "      <td>Books</td>\n",
       "      <td>15.943701</td>\n",
       "      <td>212.015651</td>\n",
       "    </tr>\n",
       "    <tr>\n",
       "      <th>3</th>\n",
       "      <td>799826</td>\n",
       "      <td>D</td>\n",
       "      <td>5</td>\n",
       "      <td>98.880218</td>\n",
       "      <td>10/27/2023 22:00</td>\n",
       "      <td>PayPal</td>\n",
       "      <td>87522 Sharon Corners Suite 500\\nLake Tammy, MO...</td>\n",
       "      <td>Books</td>\n",
       "      <td>6.686337</td>\n",
       "      <td>461.343769</td>\n",
       "    </tr>\n",
       "    <tr>\n",
       "      <th>4</th>\n",
       "      <td>121413</td>\n",
       "      <td>A</td>\n",
       "      <td>7</td>\n",
       "      <td>93.188512</td>\n",
       "      <td>12/22/2023 11:38</td>\n",
       "      <td>Cash</td>\n",
       "      <td>0070 Michelle Island Suite 143\\nHoland, VA 80142</td>\n",
       "      <td>Electronics</td>\n",
       "      <td>4.030096</td>\n",
       "      <td>626.030484</td>\n",
       "    </tr>\n",
       "  </tbody>\n",
       "</table>\n",
       "</div>"
      ],
      "text/plain": [
       "   CustomerID ProductID  Quantity      Price   TransactionDate PaymentMethod  \\\n",
       "0      109318         C         7  80.079844  12/26/2023 12:32          Cash   \n",
       "1      993229         C         4  75.195229     8/5/2023 0:00          Cash   \n",
       "2      579675         A         8  31.528816   3/11/2024 18:51          Cash   \n",
       "3      799826         D         5  98.880218  10/27/2023 22:00        PayPal   \n",
       "4      121413         A         7  93.188512  12/22/2023 11:38          Cash   \n",
       "\n",
       "                                       StoreLocation ProductCategory  \\\n",
       "0            176 Andrew Cliffs\\nBaileyfort, HI 93354           Books   \n",
       "1  11635 William Well Suite 809\\nEast Kara, MT 19483      Home Decor   \n",
       "2  910 Mendez Ville Suite 909\\nPort Lauraland, MO...           Books   \n",
       "3  87522 Sharon Corners Suite 500\\nLake Tammy, MO...           Books   \n",
       "4   0070 Michelle Island Suite 143\\nHoland, VA 80142     Electronics   \n",
       "\n",
       "   DiscountApplied(%)  TotalAmount  \n",
       "0           18.677100   455.862764  \n",
       "1           14.121365   258.306546  \n",
       "2           15.943701   212.015651  \n",
       "3            6.686337   461.343769  \n",
       "4            4.030096   626.030484  "
      ]
     },
     "execution_count": 6,
     "metadata": {},
     "output_type": "execute_result"
    }
   ],
   "source": [
    "df.head()"
   ]
  },
  {
   "cell_type": "code",
   "execution_count": 9,
   "id": "4bbcd144-5252-4b13-918c-cd325c832d0e",
   "metadata": {},
   "outputs": [],
   "source": [
    "df.drop(columns=['CustomerID','ProductID','StoreLocation'],axis=1,inplace=True)"
   ]
  },
  {
   "cell_type": "code",
   "execution_count": 10,
   "id": "5283f4c2-7b02-43aa-b7af-6252e95ac660",
   "metadata": {},
   "outputs": [
    {
     "data": {
      "text/html": [
       "<div>\n",
       "<style scoped>\n",
       "    .dataframe tbody tr th:only-of-type {\n",
       "        vertical-align: middle;\n",
       "    }\n",
       "\n",
       "    .dataframe tbody tr th {\n",
       "        vertical-align: top;\n",
       "    }\n",
       "\n",
       "    .dataframe thead th {\n",
       "        text-align: right;\n",
       "    }\n",
       "</style>\n",
       "<table border=\"1\" class=\"dataframe\">\n",
       "  <thead>\n",
       "    <tr style=\"text-align: right;\">\n",
       "      <th></th>\n",
       "      <th>Quantity</th>\n",
       "      <th>Price</th>\n",
       "      <th>TransactionDate</th>\n",
       "      <th>PaymentMethod</th>\n",
       "      <th>ProductCategory</th>\n",
       "      <th>DiscountApplied(%)</th>\n",
       "      <th>TotalAmount</th>\n",
       "    </tr>\n",
       "  </thead>\n",
       "  <tbody>\n",
       "    <tr>\n",
       "      <th>0</th>\n",
       "      <td>7</td>\n",
       "      <td>80.079844</td>\n",
       "      <td>12/26/2023 12:32</td>\n",
       "      <td>Cash</td>\n",
       "      <td>Books</td>\n",
       "      <td>18.677100</td>\n",
       "      <td>455.862764</td>\n",
       "    </tr>\n",
       "    <tr>\n",
       "      <th>1</th>\n",
       "      <td>4</td>\n",
       "      <td>75.195229</td>\n",
       "      <td>8/5/2023 0:00</td>\n",
       "      <td>Cash</td>\n",
       "      <td>Home Decor</td>\n",
       "      <td>14.121365</td>\n",
       "      <td>258.306546</td>\n",
       "    </tr>\n",
       "    <tr>\n",
       "      <th>2</th>\n",
       "      <td>8</td>\n",
       "      <td>31.528816</td>\n",
       "      <td>3/11/2024 18:51</td>\n",
       "      <td>Cash</td>\n",
       "      <td>Books</td>\n",
       "      <td>15.943701</td>\n",
       "      <td>212.015651</td>\n",
       "    </tr>\n",
       "    <tr>\n",
       "      <th>3</th>\n",
       "      <td>5</td>\n",
       "      <td>98.880218</td>\n",
       "      <td>10/27/2023 22:00</td>\n",
       "      <td>PayPal</td>\n",
       "      <td>Books</td>\n",
       "      <td>6.686337</td>\n",
       "      <td>461.343769</td>\n",
       "    </tr>\n",
       "    <tr>\n",
       "      <th>4</th>\n",
       "      <td>7</td>\n",
       "      <td>93.188512</td>\n",
       "      <td>12/22/2023 11:38</td>\n",
       "      <td>Cash</td>\n",
       "      <td>Electronics</td>\n",
       "      <td>4.030096</td>\n",
       "      <td>626.030484</td>\n",
       "    </tr>\n",
       "  </tbody>\n",
       "</table>\n",
       "</div>"
      ],
      "text/plain": [
       "   Quantity      Price   TransactionDate PaymentMethod ProductCategory  \\\n",
       "0         7  80.079844  12/26/2023 12:32          Cash           Books   \n",
       "1         4  75.195229     8/5/2023 0:00          Cash      Home Decor   \n",
       "2         8  31.528816   3/11/2024 18:51          Cash           Books   \n",
       "3         5  98.880218  10/27/2023 22:00        PayPal           Books   \n",
       "4         7  93.188512  12/22/2023 11:38          Cash     Electronics   \n",
       "\n",
       "   DiscountApplied(%)  TotalAmount  \n",
       "0           18.677100   455.862764  \n",
       "1           14.121365   258.306546  \n",
       "2           15.943701   212.015651  \n",
       "3            6.686337   461.343769  \n",
       "4            4.030096   626.030484  "
      ]
     },
     "execution_count": 10,
     "metadata": {},
     "output_type": "execute_result"
    }
   ],
   "source": [
    "df.head()"
   ]
  },
  {
   "cell_type": "code",
   "execution_count": 11,
   "id": "dca2d3ec-251d-4737-8ac1-cf79235d6154",
   "metadata": {},
   "outputs": [
    {
     "data": {
      "text/plain": [
       "Quantity              0\n",
       "Price                 0\n",
       "TransactionDate       0\n",
       "PaymentMethod         0\n",
       "ProductCategory       0\n",
       "DiscountApplied(%)    0\n",
       "TotalAmount           0\n",
       "dtype: int64"
      ]
     },
     "execution_count": 11,
     "metadata": {},
     "output_type": "execute_result"
    }
   ],
   "source": [
    "df.isna().sum()"
   ]
  },
  {
   "cell_type": "code",
   "execution_count": 13,
   "id": "35c062ab-cb5a-4cf7-8ecc-82cf30f54755",
   "metadata": {},
   "outputs": [
    {
     "data": {
      "text/plain": [
       "55.067344419007405"
      ]
     },
     "execution_count": 13,
     "metadata": {},
     "output_type": "execute_result"
    }
   ],
   "source": [
    "df['Price'].mean()"
   ]
  },
  {
   "cell_type": "code",
   "execution_count": 14,
   "id": "514eb227-4262-4c8c-9dc0-a5a39523c39e",
   "metadata": {},
   "outputs": [
    {
     "data": {
      "text/plain": [
       "array(['Books', 'Home Decor', 'Electronics', 'Clothing'], dtype=object)"
      ]
     },
     "execution_count": 14,
     "metadata": {},
     "output_type": "execute_result"
    }
   ],
   "source": [
    "df['ProductCategory'].unique()"
   ]
  },
  {
   "cell_type": "code",
   "execution_count": 17,
   "id": "06417c51-96f7-456b-bd1c-185052f85a98",
   "metadata": {},
   "outputs": [],
   "source": [
    "top_2_highest_discount=df.sort_values(by='DiscountApplied(%)' ,ascending=False)['ProductCategory'].head()"
   ]
  },
  {
   "cell_type": "code",
   "execution_count": 16,
   "id": "07ee7fa7-4199-4452-bebf-8dc11c37c558",
   "metadata": {},
   "outputs": [
    {
     "data": {
      "text/plain": [
       "30289          Books\n",
       "8487      Home Decor\n",
       "18344    Electronics\n",
       "Name: ProductCategory, dtype: object"
      ]
     },
     "execution_count": 16,
     "metadata": {},
     "output_type": "execute_result"
    }
   ],
   "source": [
    "top_2_highest_discount"
   ]
  },
  {
   "cell_type": "code",
   "execution_count": 18,
   "id": "6e200fa8-56b9-412d-a600-bad9936e3329",
   "metadata": {},
   "outputs": [
    {
     "data": {
      "text/html": [
       "<div>\n",
       "<style scoped>\n",
       "    .dataframe tbody tr th:only-of-type {\n",
       "        vertical-align: middle;\n",
       "    }\n",
       "\n",
       "    .dataframe tbody tr th {\n",
       "        vertical-align: top;\n",
       "    }\n",
       "\n",
       "    .dataframe thead th {\n",
       "        text-align: right;\n",
       "    }\n",
       "</style>\n",
       "<table border=\"1\" class=\"dataframe\">\n",
       "  <thead>\n",
       "    <tr style=\"text-align: right;\">\n",
       "      <th></th>\n",
       "      <th>ProductCategory</th>\n",
       "      <th>DiscountApplied(%)</th>\n",
       "    </tr>\n",
       "  </thead>\n",
       "  <tbody>\n",
       "    <tr>\n",
       "      <th>3</th>\n",
       "      <td>Home Decor</td>\n",
       "      <td>10.082572</td>\n",
       "    </tr>\n",
       "    <tr>\n",
       "      <th>1</th>\n",
       "      <td>Clothing</td>\n",
       "      <td>10.019378</td>\n",
       "    </tr>\n",
       "  </tbody>\n",
       "</table>\n",
       "</div>"
      ],
      "text/plain": [
       "  ProductCategory  DiscountApplied(%)\n",
       "3      Home Decor           10.082572\n",
       "1        Clothing           10.019378"
      ]
     },
     "execution_count": 18,
     "metadata": {},
     "output_type": "execute_result"
    }
   ],
   "source": [
    "category_discount = df.groupby('ProductCategory')['DiscountApplied(%)'].mean().reset_index()\n",
    "\n",
    "# Sort by discount in descending order and take the top 2 categories\n",
    "top_discount_categories = category_discount.sort_values(by='DiscountApplied(%)', ascending=False).head(2)\n",
    "top_discount_categories"
   ]
  },
  {
   "cell_type": "code",
   "execution_count": 19,
   "id": "c303f5f9-b0e8-4c02-b63c-2421eee48024",
   "metadata": {},
   "outputs": [
    {
     "data": {
      "text/plain": [
       "248.33495506385518"
      ]
     },
     "execution_count": 19,
     "metadata": {},
     "output_type": "execute_result"
    }
   ],
   "source": [
    "df['TotalAmount'].mean()"
   ]
  },
  {
   "cell_type": "markdown",
   "id": "5e9e1d3c-ec29-4524-b75e-8d8432d52e5c",
   "metadata": {},
   "source": [
    "1.Calculate the total sales amount for each product category."
   ]
  },
  {
   "cell_type": "code",
   "execution_count": 20,
   "id": "595751f7-9631-4c8b-a0a7-0ffe4d77320d",
   "metadata": {},
   "outputs": [],
   "source": [
    "total_sales_amount=df.groupby('ProductCategory')['TotalAmount'].sum().reset_index()"
   ]
  },
  {
   "cell_type": "code",
   "execution_count": 22,
   "id": "86d18300-d690-476e-91af-6f9f87fb575c",
   "metadata": {},
   "outputs": [
    {
     "data": {
      "text/html": [
       "<div>\n",
       "<style scoped>\n",
       "    .dataframe tbody tr th:only-of-type {\n",
       "        vertical-align: middle;\n",
       "    }\n",
       "\n",
       "    .dataframe tbody tr th {\n",
       "        vertical-align: top;\n",
       "    }\n",
       "\n",
       "    .dataframe thead th {\n",
       "        text-align: right;\n",
       "    }\n",
       "</style>\n",
       "<table border=\"1\" class=\"dataframe\">\n",
       "  <thead>\n",
       "    <tr style=\"text-align: right;\">\n",
       "      <th></th>\n",
       "      <th>ProductCategory</th>\n",
       "      <th>TotalAmount</th>\n",
       "    </tr>\n",
       "  </thead>\n",
       "  <tbody>\n",
       "    <tr>\n",
       "      <th>0</th>\n",
       "      <td>Books</td>\n",
       "      <td>Rs 6257837.043115523</td>\n",
       "    </tr>\n",
       "    <tr>\n",
       "      <th>1</th>\n",
       "      <td>Clothing</td>\n",
       "      <td>Rs 6205502.34875466</td>\n",
       "    </tr>\n",
       "    <tr>\n",
       "      <th>2</th>\n",
       "      <td>Electronics</td>\n",
       "      <td>Rs 6196734.758744204</td>\n",
       "    </tr>\n",
       "    <tr>\n",
       "      <th>3</th>\n",
       "      <td>Home Decor</td>\n",
       "      <td>Rs 6173421.355771132</td>\n",
       "    </tr>\n",
       "  </tbody>\n",
       "</table>\n",
       "</div>"
      ],
      "text/plain": [
       "  ProductCategory           TotalAmount\n",
       "0           Books  Rs 6257837.043115523\n",
       "1        Clothing   Rs 6205502.34875466\n",
       "2     Electronics  Rs 6196734.758744204\n",
       "3      Home Decor  Rs 6173421.355771132"
      ]
     },
     "execution_count": 22,
     "metadata": {},
     "output_type": "execute_result"
    }
   ],
   "source": [
    "total_sales_amount['TotalAmount'] = total_sales_amount['TotalAmount'].apply(lambda x: f'Rs {x}')\n",
    "total_sales_amount"
   ]
  },
  {
   "cell_type": "markdown",
   "id": "54781303-3144-494b-b77a-3611ad6f0b45",
   "metadata": {},
   "source": [
    "2.Find the average discount applied for each product category."
   ]
  },
  {
   "cell_type": "code",
   "execution_count": 25,
   "id": "74a9b652-e274-4668-855f-8cf827c50a67",
   "metadata": {},
   "outputs": [
    {
     "data": {
      "text/html": [
       "<div>\n",
       "<style scoped>\n",
       "    .dataframe tbody tr th:only-of-type {\n",
       "        vertical-align: middle;\n",
       "    }\n",
       "\n",
       "    .dataframe tbody tr th {\n",
       "        vertical-align: top;\n",
       "    }\n",
       "\n",
       "    .dataframe thead th {\n",
       "        text-align: right;\n",
       "    }\n",
       "</style>\n",
       "<table border=\"1\" class=\"dataframe\">\n",
       "  <thead>\n",
       "    <tr style=\"text-align: right;\">\n",
       "      <th></th>\n",
       "      <th>ProductCategory</th>\n",
       "      <th>DiscountApplied(%)</th>\n",
       "    </tr>\n",
       "  </thead>\n",
       "  <tbody>\n",
       "    <tr>\n",
       "      <th>0</th>\n",
       "      <td>Books</td>\n",
       "      <td>9.996935</td>\n",
       "    </tr>\n",
       "    <tr>\n",
       "      <th>1</th>\n",
       "      <td>Clothing</td>\n",
       "      <td>10.019378</td>\n",
       "    </tr>\n",
       "    <tr>\n",
       "      <th>2</th>\n",
       "      <td>Electronics</td>\n",
       "      <td>9.981941</td>\n",
       "    </tr>\n",
       "    <tr>\n",
       "      <th>3</th>\n",
       "      <td>Home Decor</td>\n",
       "      <td>10.082572</td>\n",
       "    </tr>\n",
       "  </tbody>\n",
       "</table>\n",
       "</div>"
      ],
      "text/plain": [
       "  ProductCategory  DiscountApplied(%)\n",
       "0           Books            9.996935\n",
       "1        Clothing           10.019378\n",
       "2     Electronics            9.981941\n",
       "3      Home Decor           10.082572"
      ]
     },
     "execution_count": 25,
     "metadata": {},
     "output_type": "execute_result"
    }
   ],
   "source": [
    "category_discount = df.groupby('ProductCategory')['DiscountApplied(%)'].mean().reset_index()\n",
    "category_discount"
   ]
  },
  {
   "cell_type": "markdown",
   "id": "e8c450b1-6680-46ea-960b-c0b3f51c30d4",
   "metadata": {},
   "source": [
    "3Identify the two payment methods that were used the most."
   ]
  },
  {
   "cell_type": "code",
   "execution_count": 31,
   "id": "d9b52a71-df3a-4d77-828a-c6e74531fcd5",
   "metadata": {},
   "outputs": [
    {
     "data": {
      "text/plain": [
       "PaymentMethod\n",
       "PayPal         25067\n",
       "Credit Card    25034\n",
       "Name: count, dtype: int64"
      ]
     },
     "execution_count": 31,
     "metadata": {},
     "output_type": "execute_result"
    }
   ],
   "source": [
    "df['PaymentMethod'].value_counts().sort_values(ascending=False).head(2)"
   ]
  },
  {
   "cell_type": "markdown",
   "id": "e374d496-e03e-4d02-9830-4a7aa2772e0b",
   "metadata": {},
   "source": [
    "4.Calculate the total quantity of products sold each month."
   ]
  },
  {
   "cell_type": "code",
   "execution_count": 32,
   "id": "622488c2-ec0b-4685-aa45-c06b3a177e44",
   "metadata": {},
   "outputs": [],
   "source": [
    "df['TransactionDate'] = pd.to_datetime(df['TransactionDate'])"
   ]
  },
  {
   "cell_type": "code",
   "execution_count": 33,
   "id": "d4d30fdb-6cd4-41bf-a194-7351ea7d4da5",
   "metadata": {},
   "outputs": [],
   "source": [
    "df['month']=df['TransactionDate'].dt.month"
   ]
  },
  {
   "cell_type": "code",
   "execution_count": 34,
   "id": "3df2cc4d-91da-49cd-9ad7-1714c8f0f605",
   "metadata": {},
   "outputs": [
    {
     "data": {
      "text/html": [
       "<div>\n",
       "<style scoped>\n",
       "    .dataframe tbody tr th:only-of-type {\n",
       "        vertical-align: middle;\n",
       "    }\n",
       "\n",
       "    .dataframe tbody tr th {\n",
       "        vertical-align: top;\n",
       "    }\n",
       "\n",
       "    .dataframe thead th {\n",
       "        text-align: right;\n",
       "    }\n",
       "</style>\n",
       "<table border=\"1\" class=\"dataframe\">\n",
       "  <thead>\n",
       "    <tr style=\"text-align: right;\">\n",
       "      <th></th>\n",
       "      <th>Quantity</th>\n",
       "      <th>Price</th>\n",
       "      <th>TransactionDate</th>\n",
       "      <th>PaymentMethod</th>\n",
       "      <th>ProductCategory</th>\n",
       "      <th>DiscountApplied(%)</th>\n",
       "      <th>TotalAmount</th>\n",
       "      <th>month</th>\n",
       "    </tr>\n",
       "  </thead>\n",
       "  <tbody>\n",
       "    <tr>\n",
       "      <th>0</th>\n",
       "      <td>7</td>\n",
       "      <td>80.079844</td>\n",
       "      <td>2023-12-26 12:32:00</td>\n",
       "      <td>Cash</td>\n",
       "      <td>Books</td>\n",
       "      <td>18.677100</td>\n",
       "      <td>455.862764</td>\n",
       "      <td>12</td>\n",
       "    </tr>\n",
       "    <tr>\n",
       "      <th>1</th>\n",
       "      <td>4</td>\n",
       "      <td>75.195229</td>\n",
       "      <td>2023-08-05 00:00:00</td>\n",
       "      <td>Cash</td>\n",
       "      <td>Home Decor</td>\n",
       "      <td>14.121365</td>\n",
       "      <td>258.306546</td>\n",
       "      <td>8</td>\n",
       "    </tr>\n",
       "    <tr>\n",
       "      <th>2</th>\n",
       "      <td>8</td>\n",
       "      <td>31.528816</td>\n",
       "      <td>2024-03-11 18:51:00</td>\n",
       "      <td>Cash</td>\n",
       "      <td>Books</td>\n",
       "      <td>15.943701</td>\n",
       "      <td>212.015651</td>\n",
       "      <td>3</td>\n",
       "    </tr>\n",
       "    <tr>\n",
       "      <th>3</th>\n",
       "      <td>5</td>\n",
       "      <td>98.880218</td>\n",
       "      <td>2023-10-27 22:00:00</td>\n",
       "      <td>PayPal</td>\n",
       "      <td>Books</td>\n",
       "      <td>6.686337</td>\n",
       "      <td>461.343769</td>\n",
       "      <td>10</td>\n",
       "    </tr>\n",
       "    <tr>\n",
       "      <th>4</th>\n",
       "      <td>7</td>\n",
       "      <td>93.188512</td>\n",
       "      <td>2023-12-22 11:38:00</td>\n",
       "      <td>Cash</td>\n",
       "      <td>Electronics</td>\n",
       "      <td>4.030096</td>\n",
       "      <td>626.030484</td>\n",
       "      <td>12</td>\n",
       "    </tr>\n",
       "    <tr>\n",
       "      <th>...</th>\n",
       "      <td>...</td>\n",
       "      <td>...</td>\n",
       "      <td>...</td>\n",
       "      <td>...</td>\n",
       "      <td>...</td>\n",
       "      <td>...</td>\n",
       "      <td>...</td>\n",
       "      <td>...</td>\n",
       "    </tr>\n",
       "    <tr>\n",
       "      <th>99995</th>\n",
       "      <td>2</td>\n",
       "      <td>56.078258</td>\n",
       "      <td>2023-07-17 16:59:00</td>\n",
       "      <td>Credit Card</td>\n",
       "      <td>Clothing</td>\n",
       "      <td>18.345145</td>\n",
       "      <td>91.581240</td>\n",
       "      <td>7</td>\n",
       "    </tr>\n",
       "    <tr>\n",
       "      <th>99996</th>\n",
       "      <td>6</td>\n",
       "      <td>88.516406</td>\n",
       "      <td>2023-05-30 09:04:00</td>\n",
       "      <td>Credit Card</td>\n",
       "      <td>Electronics</td>\n",
       "      <td>3.995541</td>\n",
       "      <td>509.878179</td>\n",
       "      <td>5</td>\n",
       "    </tr>\n",
       "    <tr>\n",
       "      <th>99997</th>\n",
       "      <td>4</td>\n",
       "      <td>72.385564</td>\n",
       "      <td>2023-08-25 07:59:00</td>\n",
       "      <td>Credit Card</td>\n",
       "      <td>Clothing</td>\n",
       "      <td>17.423979</td>\n",
       "      <td>239.092472</td>\n",
       "      <td>8</td>\n",
       "    </tr>\n",
       "    <tr>\n",
       "      <th>99998</th>\n",
       "      <td>5</td>\n",
       "      <td>66.542239</td>\n",
       "      <td>2024-02-05 19:45:00</td>\n",
       "      <td>PayPal</td>\n",
       "      <td>Electronics</td>\n",
       "      <td>14.345018</td>\n",
       "      <td>284.983717</td>\n",
       "      <td>2</td>\n",
       "    </tr>\n",
       "    <tr>\n",
       "      <th>99999</th>\n",
       "      <td>5</td>\n",
       "      <td>38.087766</td>\n",
       "      <td>2024-02-04 11:53:00</td>\n",
       "      <td>Debit Card</td>\n",
       "      <td>Home Decor</td>\n",
       "      <td>2.966058</td>\n",
       "      <td>184.790305</td>\n",
       "      <td>2</td>\n",
       "    </tr>\n",
       "  </tbody>\n",
       "</table>\n",
       "<p>100000 rows × 8 columns</p>\n",
       "</div>"
      ],
      "text/plain": [
       "       Quantity      Price     TransactionDate PaymentMethod ProductCategory  \\\n",
       "0             7  80.079844 2023-12-26 12:32:00          Cash           Books   \n",
       "1             4  75.195229 2023-08-05 00:00:00          Cash      Home Decor   \n",
       "2             8  31.528816 2024-03-11 18:51:00          Cash           Books   \n",
       "3             5  98.880218 2023-10-27 22:00:00        PayPal           Books   \n",
       "4             7  93.188512 2023-12-22 11:38:00          Cash     Electronics   \n",
       "...         ...        ...                 ...           ...             ...   \n",
       "99995         2  56.078258 2023-07-17 16:59:00   Credit Card        Clothing   \n",
       "99996         6  88.516406 2023-05-30 09:04:00   Credit Card     Electronics   \n",
       "99997         4  72.385564 2023-08-25 07:59:00   Credit Card        Clothing   \n",
       "99998         5  66.542239 2024-02-05 19:45:00        PayPal     Electronics   \n",
       "99999         5  38.087766 2024-02-04 11:53:00    Debit Card      Home Decor   \n",
       "\n",
       "       DiscountApplied(%)  TotalAmount  month  \n",
       "0               18.677100   455.862764     12  \n",
       "1               14.121365   258.306546      8  \n",
       "2               15.943701   212.015651      3  \n",
       "3                6.686337   461.343769     10  \n",
       "4                4.030096   626.030484     12  \n",
       "...                   ...          ...    ...  \n",
       "99995           18.345145    91.581240      7  \n",
       "99996            3.995541   509.878179      5  \n",
       "99997           17.423979   239.092472      8  \n",
       "99998           14.345018   284.983717      2  \n",
       "99999            2.966058   184.790305      2  \n",
       "\n",
       "[100000 rows x 8 columns]"
      ]
     },
     "execution_count": 34,
     "metadata": {},
     "output_type": "execute_result"
    }
   ],
   "source": [
    "df"
   ]
  },
  {
   "cell_type": "code",
   "execution_count": 35,
   "id": "71b8d5b7-d847-47ac-b57e-80cb1f8d3dca",
   "metadata": {},
   "outputs": [
    {
     "data": {
      "text/html": [
       "<div>\n",
       "<style scoped>\n",
       "    .dataframe tbody tr th:only-of-type {\n",
       "        vertical-align: middle;\n",
       "    }\n",
       "\n",
       "    .dataframe tbody tr th {\n",
       "        vertical-align: top;\n",
       "    }\n",
       "\n",
       "    .dataframe thead th {\n",
       "        text-align: right;\n",
       "    }\n",
       "</style>\n",
       "<table border=\"1\" class=\"dataframe\">\n",
       "  <thead>\n",
       "    <tr style=\"text-align: right;\">\n",
       "      <th></th>\n",
       "      <th>month</th>\n",
       "      <th>Quantity</th>\n",
       "    </tr>\n",
       "  </thead>\n",
       "  <tbody>\n",
       "    <tr>\n",
       "      <th>0</th>\n",
       "      <td>1</td>\n",
       "      <td>42702</td>\n",
       "    </tr>\n",
       "    <tr>\n",
       "      <th>1</th>\n",
       "      <td>2</td>\n",
       "      <td>40105</td>\n",
       "    </tr>\n",
       "    <tr>\n",
       "      <th>2</th>\n",
       "      <td>3</td>\n",
       "      <td>42551</td>\n",
       "    </tr>\n",
       "    <tr>\n",
       "      <th>3</th>\n",
       "      <td>4</td>\n",
       "      <td>39215</td>\n",
       "    </tr>\n",
       "    <tr>\n",
       "      <th>4</th>\n",
       "      <td>5</td>\n",
       "      <td>42121</td>\n",
       "    </tr>\n",
       "    <tr>\n",
       "      <th>5</th>\n",
       "      <td>6</td>\n",
       "      <td>41630</td>\n",
       "    </tr>\n",
       "    <tr>\n",
       "      <th>6</th>\n",
       "      <td>7</td>\n",
       "      <td>43051</td>\n",
       "    </tr>\n",
       "    <tr>\n",
       "      <th>7</th>\n",
       "      <td>8</td>\n",
       "      <td>42588</td>\n",
       "    </tr>\n",
       "    <tr>\n",
       "      <th>8</th>\n",
       "      <td>9</td>\n",
       "      <td>41204</td>\n",
       "    </tr>\n",
       "    <tr>\n",
       "      <th>9</th>\n",
       "      <td>10</td>\n",
       "      <td>41284</td>\n",
       "    </tr>\n",
       "    <tr>\n",
       "      <th>10</th>\n",
       "      <td>11</td>\n",
       "      <td>41822</td>\n",
       "    </tr>\n",
       "    <tr>\n",
       "      <th>11</th>\n",
       "      <td>12</td>\n",
       "      <td>42656</td>\n",
       "    </tr>\n",
       "  </tbody>\n",
       "</table>\n",
       "</div>"
      ],
      "text/plain": [
       "    month  Quantity\n",
       "0       1     42702\n",
       "1       2     40105\n",
       "2       3     42551\n",
       "3       4     39215\n",
       "4       5     42121\n",
       "5       6     41630\n",
       "6       7     43051\n",
       "7       8     42588\n",
       "8       9     41204\n",
       "9      10     41284\n",
       "10     11     41822\n",
       "11     12     42656"
      ]
     },
     "execution_count": 35,
     "metadata": {},
     "output_type": "execute_result"
    }
   ],
   "source": [
    "total_quantity = df.groupby('month')['Quantity'].sum().reset_index()\n",
    "total_quantity"
   ]
  },
  {
   "cell_type": "markdown",
   "id": "a7c9ecf3-be52-4cec-8d56-206d796239df",
   "metadata": {},
   "source": [
    "5.Find the highest total amount transaction for each product category."
   ]
  },
  {
   "cell_type": "code",
   "execution_count": 36,
   "id": "065720ba-7d6a-4488-ac32-743602f16a56",
   "metadata": {},
   "outputs": [],
   "source": [
    "highest_amount=df.groupby('ProductCategory')['TotalAmount'].max().reset_index()"
   ]
  },
  {
   "cell_type": "code",
   "execution_count": 37,
   "id": "2402fc6e-ba3e-4867-a96e-e05b77c14876",
   "metadata": {},
   "outputs": [
    {
     "data": {
      "text/html": [
       "<div>\n",
       "<style scoped>\n",
       "    .dataframe tbody tr th:only-of-type {\n",
       "        vertical-align: middle;\n",
       "    }\n",
       "\n",
       "    .dataframe tbody tr th {\n",
       "        vertical-align: top;\n",
       "    }\n",
       "\n",
       "    .dataframe thead th {\n",
       "        text-align: right;\n",
       "    }\n",
       "</style>\n",
       "<table border=\"1\" class=\"dataframe\">\n",
       "  <thead>\n",
       "    <tr style=\"text-align: right;\">\n",
       "      <th></th>\n",
       "      <th>ProductCategory</th>\n",
       "      <th>TotalAmount</th>\n",
       "    </tr>\n",
       "  </thead>\n",
       "  <tbody>\n",
       "    <tr>\n",
       "      <th>0</th>\n",
       "      <td>Books</td>\n",
       "      <td>895.343955</td>\n",
       "    </tr>\n",
       "    <tr>\n",
       "      <th>1</th>\n",
       "      <td>Clothing</td>\n",
       "      <td>889.148765</td>\n",
       "    </tr>\n",
       "    <tr>\n",
       "      <th>2</th>\n",
       "      <td>Electronics</td>\n",
       "      <td>890.821751</td>\n",
       "    </tr>\n",
       "    <tr>\n",
       "      <th>3</th>\n",
       "      <td>Home Decor</td>\n",
       "      <td>896.141242</td>\n",
       "    </tr>\n",
       "  </tbody>\n",
       "</table>\n",
       "</div>"
      ],
      "text/plain": [
       "  ProductCategory  TotalAmount\n",
       "0           Books   895.343955\n",
       "1        Clothing   889.148765\n",
       "2     Electronics   890.821751\n",
       "3      Home Decor   896.141242"
      ]
     },
     "execution_count": 37,
     "metadata": {},
     "output_type": "execute_result"
    }
   ],
   "source": [
    "highest_amount"
   ]
  },
  {
   "cell_type": "markdown",
   "id": "ead28687-7840-4785-83fc-86444b09fd3a",
   "metadata": {},
   "source": [
    "###### .Determine the most common product category for each payment method.\n",
    "\n"
   ]
  },
  {
   "cell_type": "code",
   "execution_count": 48,
   "id": "4fbec181-5e7c-4a3a-ab2c-a9aba78d963c",
   "metadata": {},
   "outputs": [],
   "source": [
    "highest_amount = df.groupby(['ProductCategory', 'PaymentMethod']).size().reset_index(name='Count')"
   ]
  },
  {
   "cell_type": "code",
   "execution_count": 51,
   "id": "e30c4ef5-5152-4dbf-98a8-c04876cd09a3",
   "metadata": {},
   "outputs": [
    {
     "ename": "AttributeError",
     "evalue": "'SeriesGroupBy' object has no attribute 'sort_values'",
     "output_type": "error",
     "traceback": [
      "\u001b[1;31m---------------------------------------------------------------------------\u001b[0m",
      "\u001b[1;31mAttributeError\u001b[0m                            Traceback (most recent call last)",
      "Cell \u001b[1;32mIn[51], line 1\u001b[0m\n\u001b[1;32m----> 1\u001b[0m max_count\u001b[38;5;241m=\u001b[39mhighest_amount\u001b[38;5;241m.\u001b[39mgroupby(\u001b[38;5;124m'\u001b[39m\u001b[38;5;124mProductCategory\u001b[39m\u001b[38;5;124m'\u001b[39m)[\u001b[38;5;124m'\u001b[39m\u001b[38;5;124mCount\u001b[39m\u001b[38;5;124m'\u001b[39m]\u001b[38;5;241m.\u001b[39msort_values(ascending\u001b[38;5;241m=\u001b[39m\u001b[38;5;28;01mFalse\u001b[39;00m)\u001b[38;5;241m.\u001b[39mhead(\u001b[38;5;241m2\u001b[39m)\n",
      "File \u001b[1;32m~\\anaconda6\\Lib\\site-packages\\pandas\\core\\groupby\\groupby.py:1312\u001b[0m, in \u001b[0;36mGroupBy.__getattr__\u001b[1;34m(self, attr)\u001b[0m\n\u001b[0;32m   1309\u001b[0m \u001b[38;5;28;01mif\u001b[39;00m attr \u001b[38;5;129;01min\u001b[39;00m \u001b[38;5;28mself\u001b[39m\u001b[38;5;241m.\u001b[39mobj:\n\u001b[0;32m   1310\u001b[0m     \u001b[38;5;28;01mreturn\u001b[39;00m \u001b[38;5;28mself\u001b[39m[attr]\n\u001b[1;32m-> 1312\u001b[0m \u001b[38;5;28;01mraise\u001b[39;00m \u001b[38;5;167;01mAttributeError\u001b[39;00m(\n\u001b[0;32m   1313\u001b[0m     \u001b[38;5;124mf\u001b[39m\u001b[38;5;124m\"\u001b[39m\u001b[38;5;124m'\u001b[39m\u001b[38;5;132;01m{\u001b[39;00m\u001b[38;5;28mtype\u001b[39m(\u001b[38;5;28mself\u001b[39m)\u001b[38;5;241m.\u001b[39m\u001b[38;5;18m__name__\u001b[39m\u001b[38;5;132;01m}\u001b[39;00m\u001b[38;5;124m'\u001b[39m\u001b[38;5;124m object has no attribute \u001b[39m\u001b[38;5;124m'\u001b[39m\u001b[38;5;132;01m{\u001b[39;00mattr\u001b[38;5;132;01m}\u001b[39;00m\u001b[38;5;124m'\u001b[39m\u001b[38;5;124m\"\u001b[39m\n\u001b[0;32m   1314\u001b[0m )\n",
      "\u001b[1;31mAttributeError\u001b[0m: 'SeriesGroupBy' object has no attribute 'sort_values'"
     ]
    }
   ],
   "source": [
    "max_count=highest_amount.groupby('ProductCategory')['Count'].sort_values(ascending=False).head(2)"
   ]
  },
  {
   "cell_type": "code",
   "execution_count": 57,
   "id": "3a8e57e9-fb0c-4816-a684-afbb30a7fb2b",
   "metadata": {},
   "outputs": [],
   "source": [
    "max_indices = highest_amount.groupby('ProductCategory')['Count'].idxmax()\n",
    "max_count = highest_amount.loc[max_indices, ['ProductCategory', 'PaymentMethod', 'Count']]"
   ]
  },
  {
   "cell_type": "code",
   "execution_count": 59,
   "id": "09a7bd04-0e82-40e7-8c97-b931bd6b4c59",
   "metadata": {},
   "outputs": [
    {
     "data": {
      "text/html": [
       "<div>\n",
       "<style scoped>\n",
       "    .dataframe tbody tr th:only-of-type {\n",
       "        vertical-align: middle;\n",
       "    }\n",
       "\n",
       "    .dataframe tbody tr th {\n",
       "        vertical-align: top;\n",
       "    }\n",
       "\n",
       "    .dataframe thead th {\n",
       "        text-align: right;\n",
       "    }\n",
       "</style>\n",
       "<table border=\"1\" class=\"dataframe\">\n",
       "  <thead>\n",
       "    <tr style=\"text-align: right;\">\n",
       "      <th></th>\n",
       "      <th>ProductCategory</th>\n",
       "      <th>PaymentMethod</th>\n",
       "      <th>Count</th>\n",
       "    </tr>\n",
       "  </thead>\n",
       "  <tbody>\n",
       "    <tr>\n",
       "      <th>3</th>\n",
       "      <td>Books</td>\n",
       "      <td>PayPal</td>\n",
       "      <td>6341</td>\n",
       "    </tr>\n",
       "    <tr>\n",
       "      <th>5</th>\n",
       "      <td>Clothing</td>\n",
       "      <td>Credit Card</td>\n",
       "      <td>6345</td>\n",
       "    </tr>\n",
       "    <tr>\n",
       "      <th>9</th>\n",
       "      <td>Electronics</td>\n",
       "      <td>Credit Card</td>\n",
       "      <td>6295</td>\n",
       "    </tr>\n",
       "    <tr>\n",
       "      <th>14</th>\n",
       "      <td>Home Decor</td>\n",
       "      <td>Debit Card</td>\n",
       "      <td>6312</td>\n",
       "    </tr>\n",
       "  </tbody>\n",
       "</table>\n",
       "</div>"
      ],
      "text/plain": [
       "   ProductCategory PaymentMethod  Count\n",
       "3            Books        PayPal   6341\n",
       "5         Clothing   Credit Card   6345\n",
       "9      Electronics   Credit Card   6295\n",
       "14      Home Decor    Debit Card   6312"
      ]
     },
     "execution_count": 59,
     "metadata": {},
     "output_type": "execute_result"
    }
   ],
   "source": [
    "max_count"
   ]
  },
  {
   "cell_type": "markdown",
   "id": "f9cfc5c5-2227-419b-8ca2-58c83af4da27",
   "metadata": {},
   "source": [
    "7.Calculate the total sales amount for each day of the week."
   ]
  },
  {
   "cell_type": "code",
   "execution_count": 61,
   "id": "11091e1d-888d-4dec-ac02-f77762cc1769",
   "metadata": {},
   "outputs": [],
   "source": [
    "day_mapping = {\n",
    "    0: 'Monday',\n",
    "    1: 'Tuesday',\n",
    "    2: 'Wednesday',\n",
    "    3: 'Thursday',\n",
    "    4: 'Friday',\n",
    "    5: 'Saturday',\n",
    "    6: 'Sunday'\n",
    "}"
   ]
  },
  {
   "cell_type": "code",
   "execution_count": 70,
   "id": "613174c0-b24d-41ca-8c22-3d929cbd796b",
   "metadata": {},
   "outputs": [],
   "source": [
    "date=df.iloc[0]['TransactionDate']"
   ]
  },
  {
   "cell_type": "code",
   "execution_count": 72,
   "id": "3a79b619-9c70-41d1-8207-fefd3970d586",
   "metadata": {},
   "outputs": [],
   "source": [
    "df['TransactionDate'].dayodweek"
   ]
  },
  {
   "cell_type": "code",
   "execution_count": 73,
   "id": "332b54cc-41a2-42f7-8f1d-fef8d67870b1",
   "metadata": {},
   "outputs": [
    {
     "data": {
      "text/plain": [
       "1"
      ]
     },
     "execution_count": 73,
     "metadata": {},
     "output_type": "execute_result"
    }
   ],
   "source": [
    "day"
   ]
  },
  {
   "cell_type": "code",
   "execution_count": 75,
   "id": "5cb66539-31aa-407d-aeb5-25f26c4b12b0",
   "metadata": {},
   "outputs": [],
   "source": [
    "df['dayodweek']=df['TransactionDate'].apply(lambda x: day_mapping[x.dayofweek])"
   ]
  },
  {
   "cell_type": "code",
   "execution_count": 76,
   "id": "7f8dc107-41bc-45d0-83bb-6f6501dc9a55",
   "metadata": {},
   "outputs": [
    {
     "data": {
      "text/html": [
       "<div>\n",
       "<style scoped>\n",
       "    .dataframe tbody tr th:only-of-type {\n",
       "        vertical-align: middle;\n",
       "    }\n",
       "\n",
       "    .dataframe tbody tr th {\n",
       "        vertical-align: top;\n",
       "    }\n",
       "\n",
       "    .dataframe thead th {\n",
       "        text-align: right;\n",
       "    }\n",
       "</style>\n",
       "<table border=\"1\" class=\"dataframe\">\n",
       "  <thead>\n",
       "    <tr style=\"text-align: right;\">\n",
       "      <th></th>\n",
       "      <th>Quantity</th>\n",
       "      <th>Price</th>\n",
       "      <th>TransactionDate</th>\n",
       "      <th>PaymentMethod</th>\n",
       "      <th>ProductCategory</th>\n",
       "      <th>DiscountApplied(%)</th>\n",
       "      <th>TotalAmount</th>\n",
       "      <th>month</th>\n",
       "      <th>dayodweek</th>\n",
       "    </tr>\n",
       "  </thead>\n",
       "  <tbody>\n",
       "    <tr>\n",
       "      <th>0</th>\n",
       "      <td>7</td>\n",
       "      <td>80.079844</td>\n",
       "      <td>2023-12-26 12:32:00</td>\n",
       "      <td>Cash</td>\n",
       "      <td>Books</td>\n",
       "      <td>18.677100</td>\n",
       "      <td>455.862764</td>\n",
       "      <td>12</td>\n",
       "      <td>Tuesday</td>\n",
       "    </tr>\n",
       "    <tr>\n",
       "      <th>1</th>\n",
       "      <td>4</td>\n",
       "      <td>75.195229</td>\n",
       "      <td>2023-08-05 00:00:00</td>\n",
       "      <td>Cash</td>\n",
       "      <td>Home Decor</td>\n",
       "      <td>14.121365</td>\n",
       "      <td>258.306546</td>\n",
       "      <td>8</td>\n",
       "      <td>Saturday</td>\n",
       "    </tr>\n",
       "    <tr>\n",
       "      <th>2</th>\n",
       "      <td>8</td>\n",
       "      <td>31.528816</td>\n",
       "      <td>2024-03-11 18:51:00</td>\n",
       "      <td>Cash</td>\n",
       "      <td>Books</td>\n",
       "      <td>15.943701</td>\n",
       "      <td>212.015651</td>\n",
       "      <td>3</td>\n",
       "      <td>Monday</td>\n",
       "    </tr>\n",
       "    <tr>\n",
       "      <th>3</th>\n",
       "      <td>5</td>\n",
       "      <td>98.880218</td>\n",
       "      <td>2023-10-27 22:00:00</td>\n",
       "      <td>PayPal</td>\n",
       "      <td>Books</td>\n",
       "      <td>6.686337</td>\n",
       "      <td>461.343769</td>\n",
       "      <td>10</td>\n",
       "      <td>Friday</td>\n",
       "    </tr>\n",
       "    <tr>\n",
       "      <th>4</th>\n",
       "      <td>7</td>\n",
       "      <td>93.188512</td>\n",
       "      <td>2023-12-22 11:38:00</td>\n",
       "      <td>Cash</td>\n",
       "      <td>Electronics</td>\n",
       "      <td>4.030096</td>\n",
       "      <td>626.030484</td>\n",
       "      <td>12</td>\n",
       "      <td>Friday</td>\n",
       "    </tr>\n",
       "  </tbody>\n",
       "</table>\n",
       "</div>"
      ],
      "text/plain": [
       "   Quantity      Price     TransactionDate PaymentMethod ProductCategory  \\\n",
       "0         7  80.079844 2023-12-26 12:32:00          Cash           Books   \n",
       "1         4  75.195229 2023-08-05 00:00:00          Cash      Home Decor   \n",
       "2         8  31.528816 2024-03-11 18:51:00          Cash           Books   \n",
       "3         5  98.880218 2023-10-27 22:00:00        PayPal           Books   \n",
       "4         7  93.188512 2023-12-22 11:38:00          Cash     Electronics   \n",
       "\n",
       "   DiscountApplied(%)  TotalAmount  month dayodweek  \n",
       "0           18.677100   455.862764     12   Tuesday  \n",
       "1           14.121365   258.306546      8  Saturday  \n",
       "2           15.943701   212.015651      3    Monday  \n",
       "3            6.686337   461.343769     10    Friday  \n",
       "4            4.030096   626.030484     12    Friday  "
      ]
     },
     "execution_count": 76,
     "metadata": {},
     "output_type": "execute_result"
    }
   ],
   "source": [
    "df.head()"
   ]
  },
  {
   "cell_type": "code",
   "execution_count": 82,
   "id": "a90243c9-4e90-40cb-83f8-b79c06191627",
   "metadata": {},
   "outputs": [],
   "source": [
    "total_sales=amount=df.groupby('dayodweek')['TotalAmount'].sum().reset_index()"
   ]
  },
  {
   "cell_type": "code",
   "execution_count": 83,
   "id": "bf50a35e-e2f6-431c-899d-f9acf140fe7b",
   "metadata": {},
   "outputs": [],
   "source": [
    "total_sales['TotalAmount']=total_sales['TotalAmount'].apply(lambda x: f' Rs{x}')"
   ]
  },
  {
   "cell_type": "code",
   "execution_count": 84,
   "id": "7b041bce-f324-4ee0-af06-79dbd215ae43",
   "metadata": {},
   "outputs": [
    {
     "data": {
      "text/html": [
       "<div>\n",
       "<style scoped>\n",
       "    .dataframe tbody tr th:only-of-type {\n",
       "        vertical-align: middle;\n",
       "    }\n",
       "\n",
       "    .dataframe tbody tr th {\n",
       "        vertical-align: top;\n",
       "    }\n",
       "\n",
       "    .dataframe thead th {\n",
       "        text-align: right;\n",
       "    }\n",
       "</style>\n",
       "<table border=\"1\" class=\"dataframe\">\n",
       "  <thead>\n",
       "    <tr style=\"text-align: right;\">\n",
       "      <th></th>\n",
       "      <th>dayodweek</th>\n",
       "      <th>TotalAmount</th>\n",
       "    </tr>\n",
       "  </thead>\n",
       "  <tbody>\n",
       "    <tr>\n",
       "      <th>0</th>\n",
       "      <td>Friday</td>\n",
       "      <td>Rs3547941.974009546</td>\n",
       "    </tr>\n",
       "    <tr>\n",
       "      <th>1</th>\n",
       "      <td>Monday</td>\n",
       "      <td>Rs3493463.017611088</td>\n",
       "    </tr>\n",
       "    <tr>\n",
       "      <th>2</th>\n",
       "      <td>Saturday</td>\n",
       "      <td>Rs3581301.899562005</td>\n",
       "    </tr>\n",
       "    <tr>\n",
       "      <th>3</th>\n",
       "      <td>Sunday</td>\n",
       "      <td>Rs3535349.550881768</td>\n",
       "    </tr>\n",
       "    <tr>\n",
       "      <th>4</th>\n",
       "      <td>Thursday</td>\n",
       "      <td>Rs3604946.268456236</td>\n",
       "    </tr>\n",
       "    <tr>\n",
       "      <th>5</th>\n",
       "      <td>Tuesday</td>\n",
       "      <td>Rs3529847.983460677</td>\n",
       "    </tr>\n",
       "    <tr>\n",
       "      <th>6</th>\n",
       "      <td>Wednesday</td>\n",
       "      <td>Rs3540644.812404199</td>\n",
       "    </tr>\n",
       "  </tbody>\n",
       "</table>\n",
       "</div>"
      ],
      "text/plain": [
       "   dayodweek           TotalAmount\n",
       "0     Friday   Rs3547941.974009546\n",
       "1     Monday   Rs3493463.017611088\n",
       "2   Saturday   Rs3581301.899562005\n",
       "3     Sunday   Rs3535349.550881768\n",
       "4   Thursday   Rs3604946.268456236\n",
       "5    Tuesday   Rs3529847.983460677\n",
       "6  Wednesday   Rs3540644.812404199"
      ]
     },
     "execution_count": 84,
     "metadata": {},
     "output_type": "execute_result"
    }
   ],
   "source": [
    "total_sales"
   ]
  },
  {
   "cell_type": "markdown",
   "id": "e1dde294-b4ec-4b40-a657-adee3a6b1370",
   "metadata": {},
   "source": [
    "Find the top 3 most purchased product categories based on quantity."
   ]
  },
  {
   "cell_type": "code",
   "execution_count": 85,
   "id": "857dcf59-0f1b-4bc9-ad5e-22b1aec7ba2d",
   "metadata": {},
   "outputs": [
    {
     "data": {
      "text/html": [
       "<div>\n",
       "<style scoped>\n",
       "    .dataframe tbody tr th:only-of-type {\n",
       "        vertical-align: middle;\n",
       "    }\n",
       "\n",
       "    .dataframe tbody tr th {\n",
       "        vertical-align: top;\n",
       "    }\n",
       "\n",
       "    .dataframe thead th {\n",
       "        text-align: right;\n",
       "    }\n",
       "</style>\n",
       "<table border=\"1\" class=\"dataframe\">\n",
       "  <thead>\n",
       "    <tr style=\"text-align: right;\">\n",
       "      <th></th>\n",
       "      <th>Quantity</th>\n",
       "      <th>Price</th>\n",
       "      <th>TransactionDate</th>\n",
       "      <th>PaymentMethod</th>\n",
       "      <th>ProductCategory</th>\n",
       "      <th>DiscountApplied(%)</th>\n",
       "      <th>TotalAmount</th>\n",
       "      <th>month</th>\n",
       "      <th>dayodweek</th>\n",
       "    </tr>\n",
       "  </thead>\n",
       "  <tbody>\n",
       "    <tr>\n",
       "      <th>0</th>\n",
       "      <td>7</td>\n",
       "      <td>80.079844</td>\n",
       "      <td>2023-12-26 12:32:00</td>\n",
       "      <td>Cash</td>\n",
       "      <td>Books</td>\n",
       "      <td>18.677100</td>\n",
       "      <td>455.862764</td>\n",
       "      <td>12</td>\n",
       "      <td>Tuesday</td>\n",
       "    </tr>\n",
       "    <tr>\n",
       "      <th>1</th>\n",
       "      <td>4</td>\n",
       "      <td>75.195229</td>\n",
       "      <td>2023-08-05 00:00:00</td>\n",
       "      <td>Cash</td>\n",
       "      <td>Home Decor</td>\n",
       "      <td>14.121365</td>\n",
       "      <td>258.306546</td>\n",
       "      <td>8</td>\n",
       "      <td>Saturday</td>\n",
       "    </tr>\n",
       "    <tr>\n",
       "      <th>2</th>\n",
       "      <td>8</td>\n",
       "      <td>31.528816</td>\n",
       "      <td>2024-03-11 18:51:00</td>\n",
       "      <td>Cash</td>\n",
       "      <td>Books</td>\n",
       "      <td>15.943701</td>\n",
       "      <td>212.015651</td>\n",
       "      <td>3</td>\n",
       "      <td>Monday</td>\n",
       "    </tr>\n",
       "    <tr>\n",
       "      <th>3</th>\n",
       "      <td>5</td>\n",
       "      <td>98.880218</td>\n",
       "      <td>2023-10-27 22:00:00</td>\n",
       "      <td>PayPal</td>\n",
       "      <td>Books</td>\n",
       "      <td>6.686337</td>\n",
       "      <td>461.343769</td>\n",
       "      <td>10</td>\n",
       "      <td>Friday</td>\n",
       "    </tr>\n",
       "    <tr>\n",
       "      <th>4</th>\n",
       "      <td>7</td>\n",
       "      <td>93.188512</td>\n",
       "      <td>2023-12-22 11:38:00</td>\n",
       "      <td>Cash</td>\n",
       "      <td>Electronics</td>\n",
       "      <td>4.030096</td>\n",
       "      <td>626.030484</td>\n",
       "      <td>12</td>\n",
       "      <td>Friday</td>\n",
       "    </tr>\n",
       "  </tbody>\n",
       "</table>\n",
       "</div>"
      ],
      "text/plain": [
       "   Quantity      Price     TransactionDate PaymentMethod ProductCategory  \\\n",
       "0         7  80.079844 2023-12-26 12:32:00          Cash           Books   \n",
       "1         4  75.195229 2023-08-05 00:00:00          Cash      Home Decor   \n",
       "2         8  31.528816 2024-03-11 18:51:00          Cash           Books   \n",
       "3         5  98.880218 2023-10-27 22:00:00        PayPal           Books   \n",
       "4         7  93.188512 2023-12-22 11:38:00          Cash     Electronics   \n",
       "\n",
       "   DiscountApplied(%)  TotalAmount  month dayodweek  \n",
       "0           18.677100   455.862764     12   Tuesday  \n",
       "1           14.121365   258.306546      8  Saturday  \n",
       "2           15.943701   212.015651      3    Monday  \n",
       "3            6.686337   461.343769     10    Friday  \n",
       "4            4.030096   626.030484     12    Friday  "
      ]
     },
     "execution_count": 85,
     "metadata": {},
     "output_type": "execute_result"
    }
   ],
   "source": [
    "df.head()"
   ]
  },
  {
   "cell_type": "code",
   "execution_count": 90,
   "id": "8ebb434c-f4dd-4cc7-a10c-b52c9fcf9136",
   "metadata": {},
   "outputs": [],
   "source": [
    "top_prodcuct=df.groupby('ProductCategory')['Quantity'].sum().reset_index()"
   ]
  },
  {
   "cell_type": "code",
   "execution_count": 91,
   "id": "6df19dc4-c9e5-4cdc-9d6a-00f3d473b67f",
   "metadata": {},
   "outputs": [
    {
     "data": {
      "text/html": [
       "<div>\n",
       "<style scoped>\n",
       "    .dataframe tbody tr th:only-of-type {\n",
       "        vertical-align: middle;\n",
       "    }\n",
       "\n",
       "    .dataframe tbody tr th {\n",
       "        vertical-align: top;\n",
       "    }\n",
       "\n",
       "    .dataframe thead th {\n",
       "        text-align: right;\n",
       "    }\n",
       "</style>\n",
       "<table border=\"1\" class=\"dataframe\">\n",
       "  <thead>\n",
       "    <tr style=\"text-align: right;\">\n",
       "      <th></th>\n",
       "      <th>ProductCategory</th>\n",
       "      <th>Quantity</th>\n",
       "    </tr>\n",
       "  </thead>\n",
       "  <tbody>\n",
       "    <tr>\n",
       "      <th>0</th>\n",
       "      <td>Books</td>\n",
       "      <td>126047</td>\n",
       "    </tr>\n",
       "    <tr>\n",
       "      <th>1</th>\n",
       "      <td>Clothing</td>\n",
       "      <td>125044</td>\n",
       "    </tr>\n",
       "    <tr>\n",
       "      <th>2</th>\n",
       "      <td>Electronics</td>\n",
       "      <td>125347</td>\n",
       "    </tr>\n",
       "    <tr>\n",
       "      <th>3</th>\n",
       "      <td>Home Decor</td>\n",
       "      <td>124491</td>\n",
       "    </tr>\n",
       "  </tbody>\n",
       "</table>\n",
       "</div>"
      ],
      "text/plain": [
       "  ProductCategory  Quantity\n",
       "0           Books    126047\n",
       "1        Clothing    125044\n",
       "2     Electronics    125347\n",
       "3      Home Decor    124491"
      ]
     },
     "execution_count": 91,
     "metadata": {},
     "output_type": "execute_result"
    }
   ],
   "source": [
    "top_prodcuct"
   ]
  },
  {
   "cell_type": "code",
   "execution_count": 93,
   "id": "137444f6-c801-4365-9111-03c7bd86bdf9",
   "metadata": {},
   "outputs": [],
   "source": [
    "top_prodcuct=top_prodcuct.sort_values(by='Quantity',ascending=False).head(3)"
   ]
  },
  {
   "cell_type": "code",
   "execution_count": 94,
   "id": "fcef513c-005f-49d2-9684-855d5087c713",
   "metadata": {},
   "outputs": [
    {
     "data": {
      "text/html": [
       "<div>\n",
       "<style scoped>\n",
       "    .dataframe tbody tr th:only-of-type {\n",
       "        vertical-align: middle;\n",
       "    }\n",
       "\n",
       "    .dataframe tbody tr th {\n",
       "        vertical-align: top;\n",
       "    }\n",
       "\n",
       "    .dataframe thead th {\n",
       "        text-align: right;\n",
       "    }\n",
       "</style>\n",
       "<table border=\"1\" class=\"dataframe\">\n",
       "  <thead>\n",
       "    <tr style=\"text-align: right;\">\n",
       "      <th></th>\n",
       "      <th>ProductCategory</th>\n",
       "      <th>Quantity</th>\n",
       "    </tr>\n",
       "  </thead>\n",
       "  <tbody>\n",
       "    <tr>\n",
       "      <th>0</th>\n",
       "      <td>Books</td>\n",
       "      <td>126047</td>\n",
       "    </tr>\n",
       "    <tr>\n",
       "      <th>2</th>\n",
       "      <td>Electronics</td>\n",
       "      <td>125347</td>\n",
       "    </tr>\n",
       "    <tr>\n",
       "      <th>1</th>\n",
       "      <td>Clothing</td>\n",
       "      <td>125044</td>\n",
       "    </tr>\n",
       "  </tbody>\n",
       "</table>\n",
       "</div>"
      ],
      "text/plain": [
       "  ProductCategory  Quantity\n",
       "0           Books    126047\n",
       "2     Electronics    125347\n",
       "1        Clothing    125044"
      ]
     },
     "execution_count": 94,
     "metadata": {},
     "output_type": "execute_result"
    }
   ],
   "source": [
    "top_prodcuct"
   ]
  },
  {
   "cell_type": "markdown",
   "id": "f1cebcff-28a8-4518-bb11-418db0df2a5c",
   "metadata": {},
   "source": [
    "8.Calculate the total discount applied for each payment method."
   ]
  },
  {
   "cell_type": "code",
   "execution_count": 95,
   "id": "dd9b8152-5949-470a-97aa-78a78bb2aa96",
   "metadata": {},
   "outputs": [],
   "source": [
    "total_discount=df.groupby('PaymentMethod')['DiscountApplied(%)'].sum().reset_index()"
   ]
  },
  {
   "cell_type": "code",
   "execution_count": 96,
   "id": "35796108-ff42-43e7-a0e6-9e0c9daedce2",
   "metadata": {},
   "outputs": [
    {
     "data": {
      "text/html": [
       "<div>\n",
       "<style scoped>\n",
       "    .dataframe tbody tr th:only-of-type {\n",
       "        vertical-align: middle;\n",
       "    }\n",
       "\n",
       "    .dataframe tbody tr th {\n",
       "        vertical-align: top;\n",
       "    }\n",
       "\n",
       "    .dataframe thead th {\n",
       "        text-align: right;\n",
       "    }\n",
       "</style>\n",
       "<table border=\"1\" class=\"dataframe\">\n",
       "  <thead>\n",
       "    <tr style=\"text-align: right;\">\n",
       "      <th></th>\n",
       "      <th>PaymentMethod</th>\n",
       "      <th>DiscountApplied(%)</th>\n",
       "    </tr>\n",
       "  </thead>\n",
       "  <tbody>\n",
       "    <tr>\n",
       "      <th>0</th>\n",
       "      <td>Cash</td>\n",
       "      <td>250905.711760</td>\n",
       "    </tr>\n",
       "    <tr>\n",
       "      <th>1</th>\n",
       "      <td>Credit Card</td>\n",
       "      <td>251120.136552</td>\n",
       "    </tr>\n",
       "    <tr>\n",
       "      <th>2</th>\n",
       "      <td>Debit Card</td>\n",
       "      <td>249110.857851</td>\n",
       "    </tr>\n",
       "    <tr>\n",
       "      <th>3</th>\n",
       "      <td>PayPal</td>\n",
       "      <td>250878.747754</td>\n",
       "    </tr>\n",
       "  </tbody>\n",
       "</table>\n",
       "</div>"
      ],
      "text/plain": [
       "  PaymentMethod  DiscountApplied(%)\n",
       "0          Cash       250905.711760\n",
       "1   Credit Card       251120.136552\n",
       "2    Debit Card       249110.857851\n",
       "3        PayPal       250878.747754"
      ]
     },
     "execution_count": 96,
     "metadata": {},
     "output_type": "execute_result"
    }
   ],
   "source": [
    "total_discount"
   ]
  },
  {
   "cell_type": "markdown",
   "id": "a84ec12c-ff03-41b9-8f16-f831432e43f0",
   "metadata": {},
   "source": [
    "9Identify the transaction with the highest total amount."
   ]
  },
  {
   "cell_type": "code",
   "execution_count": 97,
   "id": "54f849e3-36a3-4feb-a47e-e3f15c9e2465",
   "metadata": {},
   "outputs": [],
   "source": [
    "top_transaction =df.groupby('PaymentMethod')['TotalAmount'].sum().reset_index()"
   ]
  },
  {
   "cell_type": "code",
   "execution_count": 100,
   "id": "d7cb9d00-93f1-4593-b139-d95ba6beae29",
   "metadata": {},
   "outputs": [],
   "source": [
    "top_transaction['TotalAmount']=top_transaction['TotalAmount'].apply(lambda x: f'Rs {x}')"
   ]
  },
  {
   "cell_type": "code",
   "execution_count": 101,
   "id": "f89ed741-bad6-4a7d-a3d5-4f602718cf82",
   "metadata": {},
   "outputs": [
    {
     "data": {
      "text/html": [
       "<div>\n",
       "<style scoped>\n",
       "    .dataframe tbody tr th:only-of-type {\n",
       "        vertical-align: middle;\n",
       "    }\n",
       "\n",
       "    .dataframe tbody tr th {\n",
       "        vertical-align: top;\n",
       "    }\n",
       "\n",
       "    .dataframe thead th {\n",
       "        text-align: right;\n",
       "    }\n",
       "</style>\n",
       "<table border=\"1\" class=\"dataframe\">\n",
       "  <thead>\n",
       "    <tr style=\"text-align: right;\">\n",
       "      <th></th>\n",
       "      <th>PaymentMethod</th>\n",
       "      <th>TotalAmount</th>\n",
       "    </tr>\n",
       "  </thead>\n",
       "  <tbody>\n",
       "    <tr>\n",
       "      <th>0</th>\n",
       "      <td>Cash</td>\n",
       "      <td>Rs 6207205.950565307</td>\n",
       "    </tr>\n",
       "    <tr>\n",
       "      <th>1</th>\n",
       "      <td>Credit Card</td>\n",
       "      <td>Rs 6203537.870380674</td>\n",
       "    </tr>\n",
       "    <tr>\n",
       "      <th>2</th>\n",
       "      <td>Debit Card</td>\n",
       "      <td>Rs 6202998.848452339</td>\n",
       "    </tr>\n",
       "    <tr>\n",
       "      <th>3</th>\n",
       "      <td>PayPal</td>\n",
       "      <td>Rs 6219752.836987199</td>\n",
       "    </tr>\n",
       "  </tbody>\n",
       "</table>\n",
       "</div>"
      ],
      "text/plain": [
       "  PaymentMethod           TotalAmount\n",
       "0          Cash  Rs 6207205.950565307\n",
       "1   Credit Card  Rs 6203537.870380674\n",
       "2    Debit Card  Rs 6202998.848452339\n",
       "3        PayPal  Rs 6219752.836987199"
      ]
     },
     "execution_count": 101,
     "metadata": {},
     "output_type": "execute_result"
    }
   ],
   "source": [
    "top_transaction"
   ]
  },
  {
   "cell_type": "markdown",
   "id": "d7028754-35f2-45d1-a915-70e6d904ac13",
   "metadata": {},
   "source": [
    "Find the average price of products in each product category."
   ]
  },
  {
   "cell_type": "code",
   "execution_count": 103,
   "id": "099ea932-c6f5-4385-a418-0d71a608a306",
   "metadata": {},
   "outputs": [],
   "source": [
    "average_price =df.groupby('ProductCategory')['TotalAmount'].mean().reset_index()"
   ]
  },
  {
   "cell_type": "code",
   "execution_count": 104,
   "id": "732a2633-3c7f-40c5-8c3a-ffff607d9329",
   "metadata": {},
   "outputs": [],
   "source": [
    "average_price['TotalAmount']=average_price['TotalAmount'].apply(lambda x: f'Rs {x}')"
   ]
  },
  {
   "cell_type": "code",
   "execution_count": 105,
   "id": "e78f466b-d2fe-402e-a5d4-5af2fb2be746",
   "metadata": {},
   "outputs": [
    {
     "data": {
      "text/html": [
       "<div>\n",
       "<style scoped>\n",
       "    .dataframe tbody tr th:only-of-type {\n",
       "        vertical-align: middle;\n",
       "    }\n",
       "\n",
       "    .dataframe tbody tr th {\n",
       "        vertical-align: top;\n",
       "    }\n",
       "\n",
       "    .dataframe thead th {\n",
       "        text-align: right;\n",
       "    }\n",
       "</style>\n",
       "<table border=\"1\" class=\"dataframe\">\n",
       "  <thead>\n",
       "    <tr style=\"text-align: right;\">\n",
       "      <th></th>\n",
       "      <th>ProductCategory</th>\n",
       "      <th>TotalAmount</th>\n",
       "    </tr>\n",
       "  </thead>\n",
       "  <tbody>\n",
       "    <tr>\n",
       "      <th>0</th>\n",
       "      <td>Books</td>\n",
       "      <td>Rs 250.00347741262925</td>\n",
       "    </tr>\n",
       "    <tr>\n",
       "      <th>1</th>\n",
       "      <td>Clothing</td>\n",
       "      <td>Rs 247.6653236252658</td>\n",
       "    </tr>\n",
       "    <tr>\n",
       "      <th>2</th>\n",
       "      <td>Electronics</td>\n",
       "      <td>Rs 247.96857778088054</td>\n",
       "    </tr>\n",
       "    <tr>\n",
       "      <th>3</th>\n",
       "      <td>Home Decor</td>\n",
       "      <td>Rs 247.69976952096985</td>\n",
       "    </tr>\n",
       "  </tbody>\n",
       "</table>\n",
       "</div>"
      ],
      "text/plain": [
       "  ProductCategory            TotalAmount\n",
       "0           Books  Rs 250.00347741262925\n",
       "1        Clothing   Rs 247.6653236252658\n",
       "2     Electronics  Rs 247.96857778088054\n",
       "3      Home Decor  Rs 247.69976952096985"
      ]
     },
     "execution_count": 105,
     "metadata": {},
     "output_type": "execute_result"
    }
   ],
   "source": [
    "average_price"
   ]
  },
  {
   "cell_type": "markdown",
   "id": "670018ba-bf41-451a-a780-62e239ba5e93",
   "metadata": {},
   "source": [
    "Calculate the total sales amount per transaction."
   ]
  },
  {
   "cell_type": "code",
   "execution_count": 106,
   "id": "0309cac2-9442-40ec-a77c-2ed62fcdb2e3",
   "metadata": {},
   "outputs": [],
   "source": [
    "per_transcation=df['TotalAmount'].mean()"
   ]
  },
  {
   "cell_type": "code",
   "execution_count": 107,
   "id": "e5e64882-4601-4112-af62-0f703b624b0b",
   "metadata": {},
   "outputs": [
    {
     "data": {
      "text/plain": [
       "248.33495506385518"
      ]
     },
     "execution_count": 107,
     "metadata": {},
     "output_type": "execute_result"
    }
   ],
   "source": [
    "per_transcation"
   ]
  },
  {
   "cell_type": "code",
   "execution_count": 108,
   "id": "d0993351-d309-4efe-90d6-1e4ff8e9e059",
   "metadata": {},
   "outputs": [],
   "source": [
    "###Calculate the total sales amount for transactions where the discount applied is greater than 20%."
   ]
  },
  {
   "cell_type": "code",
   "execution_count": 115,
   "id": "5269eb0a-8672-44b0-9bad-964a240081d0",
   "metadata": {},
   "outputs": [],
   "source": [
    "filtered_df = df[df['DiscountApplied(%)'] > 15]"
   ]
  },
  {
   "cell_type": "code",
   "execution_count": 114,
   "id": "9b11410a-9541-4402-af8b-5755bdbf8a0c",
   "metadata": {},
   "outputs": [
    {
     "data": {
      "text/plain": [
       "19.99958523"
      ]
     },
     "execution_count": 114,
     "metadata": {},
     "output_type": "execute_result"
    }
   ],
   "source": [
    "df['DiscountApplied(%)'].max()"
   ]
  },
  {
   "cell_type": "code",
   "execution_count": 116,
   "id": "ce5b484e-924b-48d6-b036-38f26f9f38be",
   "metadata": {},
   "outputs": [
    {
     "data": {
      "text/html": [
       "<div>\n",
       "<style scoped>\n",
       "    .dataframe tbody tr th:only-of-type {\n",
       "        vertical-align: middle;\n",
       "    }\n",
       "\n",
       "    .dataframe tbody tr th {\n",
       "        vertical-align: top;\n",
       "    }\n",
       "\n",
       "    .dataframe thead th {\n",
       "        text-align: right;\n",
       "    }\n",
       "</style>\n",
       "<table border=\"1\" class=\"dataframe\">\n",
       "  <thead>\n",
       "    <tr style=\"text-align: right;\">\n",
       "      <th></th>\n",
       "      <th>Quantity</th>\n",
       "      <th>Price</th>\n",
       "      <th>TransactionDate</th>\n",
       "      <th>PaymentMethod</th>\n",
       "      <th>ProductCategory</th>\n",
       "      <th>DiscountApplied(%)</th>\n",
       "      <th>TotalAmount</th>\n",
       "      <th>month</th>\n",
       "      <th>dayodweek</th>\n",
       "    </tr>\n",
       "  </thead>\n",
       "  <tbody>\n",
       "    <tr>\n",
       "      <th>0</th>\n",
       "      <td>7</td>\n",
       "      <td>80.079844</td>\n",
       "      <td>2023-12-26 12:32:00</td>\n",
       "      <td>Cash</td>\n",
       "      <td>Books</td>\n",
       "      <td>18.677100</td>\n",
       "      <td>455.862764</td>\n",
       "      <td>12</td>\n",
       "      <td>Tuesday</td>\n",
       "    </tr>\n",
       "    <tr>\n",
       "      <th>2</th>\n",
       "      <td>8</td>\n",
       "      <td>31.528816</td>\n",
       "      <td>2024-03-11 18:51:00</td>\n",
       "      <td>Cash</td>\n",
       "      <td>Books</td>\n",
       "      <td>15.943701</td>\n",
       "      <td>212.015651</td>\n",
       "      <td>3</td>\n",
       "      <td>Monday</td>\n",
       "    </tr>\n",
       "    <tr>\n",
       "      <th>6</th>\n",
       "      <td>7</td>\n",
       "      <td>13.121937</td>\n",
       "      <td>2023-12-26 05:32:00</td>\n",
       "      <td>PayPal</td>\n",
       "      <td>Clothing</td>\n",
       "      <td>16.295127</td>\n",
       "      <td>76.885907</td>\n",
       "      <td>12</td>\n",
       "      <td>Tuesday</td>\n",
       "    </tr>\n",
       "    <tr>\n",
       "      <th>8</th>\n",
       "      <td>5</td>\n",
       "      <td>23.857981</td>\n",
       "      <td>2024-02-27 11:13:00</td>\n",
       "      <td>Credit Card</td>\n",
       "      <td>Electronics</td>\n",
       "      <td>18.703997</td>\n",
       "      <td>96.977925</td>\n",
       "      <td>2</td>\n",
       "      <td>Tuesday</td>\n",
       "    </tr>\n",
       "    <tr>\n",
       "      <th>14</th>\n",
       "      <td>5</td>\n",
       "      <td>95.011762</td>\n",
       "      <td>2023-10-27 17:50:00</td>\n",
       "      <td>Cash</td>\n",
       "      <td>Clothing</td>\n",
       "      <td>16.248395</td>\n",
       "      <td>397.869376</td>\n",
       "      <td>10</td>\n",
       "      <td>Friday</td>\n",
       "    </tr>\n",
       "    <tr>\n",
       "      <th>...</th>\n",
       "      <td>...</td>\n",
       "      <td>...</td>\n",
       "      <td>...</td>\n",
       "      <td>...</td>\n",
       "      <td>...</td>\n",
       "      <td>...</td>\n",
       "      <td>...</td>\n",
       "      <td>...</td>\n",
       "      <td>...</td>\n",
       "    </tr>\n",
       "    <tr>\n",
       "      <th>99991</th>\n",
       "      <td>4</td>\n",
       "      <td>77.927041</td>\n",
       "      <td>2024-03-22 17:41:00</td>\n",
       "      <td>Debit Card</td>\n",
       "      <td>Books</td>\n",
       "      <td>17.343479</td>\n",
       "      <td>257.647124</td>\n",
       "      <td>3</td>\n",
       "      <td>Friday</td>\n",
       "    </tr>\n",
       "    <tr>\n",
       "      <th>99992</th>\n",
       "      <td>1</td>\n",
       "      <td>82.566022</td>\n",
       "      <td>2024-01-17 22:51:00</td>\n",
       "      <td>Debit Card</td>\n",
       "      <td>Electronics</td>\n",
       "      <td>19.577356</td>\n",
       "      <td>66.401778</td>\n",
       "      <td>1</td>\n",
       "      <td>Wednesday</td>\n",
       "    </tr>\n",
       "    <tr>\n",
       "      <th>99994</th>\n",
       "      <td>5</td>\n",
       "      <td>53.600296</td>\n",
       "      <td>2023-06-29 03:36:00</td>\n",
       "      <td>Cash</td>\n",
       "      <td>Clothing</td>\n",
       "      <td>18.832064</td>\n",
       "      <td>217.531271</td>\n",
       "      <td>6</td>\n",
       "      <td>Thursday</td>\n",
       "    </tr>\n",
       "    <tr>\n",
       "      <th>99995</th>\n",
       "      <td>2</td>\n",
       "      <td>56.078258</td>\n",
       "      <td>2023-07-17 16:59:00</td>\n",
       "      <td>Credit Card</td>\n",
       "      <td>Clothing</td>\n",
       "      <td>18.345145</td>\n",
       "      <td>91.581240</td>\n",
       "      <td>7</td>\n",
       "      <td>Monday</td>\n",
       "    </tr>\n",
       "    <tr>\n",
       "      <th>99997</th>\n",
       "      <td>4</td>\n",
       "      <td>72.385564</td>\n",
       "      <td>2023-08-25 07:59:00</td>\n",
       "      <td>Credit Card</td>\n",
       "      <td>Clothing</td>\n",
       "      <td>17.423979</td>\n",
       "      <td>239.092472</td>\n",
       "      <td>8</td>\n",
       "      <td>Friday</td>\n",
       "    </tr>\n",
       "  </tbody>\n",
       "</table>\n",
       "<p>25116 rows × 9 columns</p>\n",
       "</div>"
      ],
      "text/plain": [
       "       Quantity      Price     TransactionDate PaymentMethod ProductCategory  \\\n",
       "0             7  80.079844 2023-12-26 12:32:00          Cash           Books   \n",
       "2             8  31.528816 2024-03-11 18:51:00          Cash           Books   \n",
       "6             7  13.121937 2023-12-26 05:32:00        PayPal        Clothing   \n",
       "8             5  23.857981 2024-02-27 11:13:00   Credit Card     Electronics   \n",
       "14            5  95.011762 2023-10-27 17:50:00          Cash        Clothing   \n",
       "...         ...        ...                 ...           ...             ...   \n",
       "99991         4  77.927041 2024-03-22 17:41:00    Debit Card           Books   \n",
       "99992         1  82.566022 2024-01-17 22:51:00    Debit Card     Electronics   \n",
       "99994         5  53.600296 2023-06-29 03:36:00          Cash        Clothing   \n",
       "99995         2  56.078258 2023-07-17 16:59:00   Credit Card        Clothing   \n",
       "99997         4  72.385564 2023-08-25 07:59:00   Credit Card        Clothing   \n",
       "\n",
       "       DiscountApplied(%)  TotalAmount  month  dayodweek  \n",
       "0               18.677100   455.862764     12    Tuesday  \n",
       "2               15.943701   212.015651      3     Monday  \n",
       "6               16.295127    76.885907     12    Tuesday  \n",
       "8               18.703997    96.977925      2    Tuesday  \n",
       "14              16.248395   397.869376     10     Friday  \n",
       "...                   ...          ...    ...        ...  \n",
       "99991           17.343479   257.647124      3     Friday  \n",
       "99992           19.577356    66.401778      1  Wednesday  \n",
       "99994           18.832064   217.531271      6   Thursday  \n",
       "99995           18.345145    91.581240      7     Monday  \n",
       "99997           17.423979   239.092472      8     Friday  \n",
       "\n",
       "[25116 rows x 9 columns]"
      ]
     },
     "execution_count": 116,
     "metadata": {},
     "output_type": "execute_result"
    }
   ],
   "source": [
    "filtered_df"
   ]
  },
  {
   "cell_type": "code",
   "execution_count": 117,
   "id": "290c6d14-474d-4ae1-8472-9cca5fc4ca4e",
   "metadata": {},
   "outputs": [],
   "source": [
    "sales_amount =filtered_df.groupby('PaymentMethod')['TotalAmount'].sum().reset_index()"
   ]
  },
  {
   "cell_type": "code",
   "execution_count": 118,
   "id": "b3b62aad-b29c-4179-a85b-5b9b7f4e25dd",
   "metadata": {},
   "outputs": [
    {
     "data": {
      "text/html": [
       "<div>\n",
       "<style scoped>\n",
       "    .dataframe tbody tr th:only-of-type {\n",
       "        vertical-align: middle;\n",
       "    }\n",
       "\n",
       "    .dataframe tbody tr th {\n",
       "        vertical-align: top;\n",
       "    }\n",
       "\n",
       "    .dataframe thead th {\n",
       "        text-align: right;\n",
       "    }\n",
       "</style>\n",
       "<table border=\"1\" class=\"dataframe\">\n",
       "  <thead>\n",
       "    <tr style=\"text-align: right;\">\n",
       "      <th></th>\n",
       "      <th>PaymentMethod</th>\n",
       "      <th>TotalAmount</th>\n",
       "    </tr>\n",
       "  </thead>\n",
       "  <tbody>\n",
       "    <tr>\n",
       "      <th>0</th>\n",
       "      <td>Cash</td>\n",
       "      <td>1.431099e+06</td>\n",
       "    </tr>\n",
       "    <tr>\n",
       "      <th>1</th>\n",
       "      <td>Credit Card</td>\n",
       "      <td>1.414078e+06</td>\n",
       "    </tr>\n",
       "    <tr>\n",
       "      <th>2</th>\n",
       "      <td>Debit Card</td>\n",
       "      <td>1.418848e+06</td>\n",
       "    </tr>\n",
       "    <tr>\n",
       "      <th>3</th>\n",
       "      <td>PayPal</td>\n",
       "      <td>1.417491e+06</td>\n",
       "    </tr>\n",
       "  </tbody>\n",
       "</table>\n",
       "</div>"
      ],
      "text/plain": [
       "  PaymentMethod   TotalAmount\n",
       "0          Cash  1.431099e+06\n",
       "1   Credit Card  1.414078e+06\n",
       "2    Debit Card  1.418848e+06\n",
       "3        PayPal  1.417491e+06"
      ]
     },
     "execution_count": 118,
     "metadata": {},
     "output_type": "execute_result"
    }
   ],
   "source": [
    "sales_amount"
   ]
  },
  {
   "cell_type": "code",
   "execution_count": null,
   "id": "d6ac2e45-eaa7-424d-b6df-dbf87ff543fa",
   "metadata": {},
   "outputs": [],
   "source": []
  }
 ],
 "metadata": {
  "kernelspec": {
   "display_name": "Python 3 (ipykernel)",
   "language": "python",
   "name": "python3"
  },
  "language_info": {
   "codemirror_mode": {
    "name": "ipython",
    "version": 3
   },
   "file_extension": ".py",
   "mimetype": "text/x-python",
   "name": "python",
   "nbconvert_exporter": "python",
   "pygments_lexer": "ipython3",
   "version": "3.11.7"
  }
 },
 "nbformat": 4,
 "nbformat_minor": 5
}
